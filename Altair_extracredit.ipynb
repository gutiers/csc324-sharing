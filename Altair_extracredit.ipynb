{
 "cells": [
  {
   "cell_type": "markdown",
   "metadata": {},
   "source": [
    "# Relation between Life Expectancy, GDP and % of GDP spent in Education."
   ]
  },
  {
   "cell_type": "markdown",
   "metadata": {},
   "source": [
    "## Importing libraries"
   ]
  },
  {
   "cell_type": "code",
   "execution_count": 1,
   "metadata": {},
   "outputs": [],
   "source": [
    "import altair as alt\n",
    "import pandas as pd\n",
    "import numpy as np"
   ]
  },
  {
   "cell_type": "markdown",
   "metadata": {},
   "source": [
    "## Getting the data"
   ]
  },
  {
   "cell_type": "code",
   "execution_count": 2,
   "metadata": {},
   "outputs": [
    {
     "name": "stdout",
     "output_type": "stream",
     "text": [
      "01_styles.ipynb\r\n",
      "02_seaborn.ipynb\r\n",
      "03_bokeh.ipynb\r\n",
      "04_d3.ipynb\r\n",
      "05_widgets.ipynb\r\n",
      "06_altair.ipynb\r\n",
      "Altair_extracredit.ipynb\r\n",
      "chart.json\r\n",
      "Data_Extract_From_World_Development_Indicators.zip\r\n",
      "df.json\r\n",
      "ExerciseData-OlympicMedallists.csv\r\n",
      "Exercise_with_Bokeh_CSC324.ipynb\r\n",
      "graph.json\r\n",
      "lge.csv\r\n",
      "lge.tar\r\n",
      "life_exp_gdp_edu.csv\r\n",
      "life_exp_gdp_edu_metadata.csv\r\n",
      "seaborn_exercise.ipynb\r\n",
      "Untitled1.ipynb\r\n",
      "Untitled.ipynb\r\n"
     ]
    }
   ],
   "source": [
    "!ls"
   ]
  },
  {
   "cell_type": "code",
   "execution_count": 3,
   "metadata": {},
   "outputs": [],
   "source": [
    "lge_original_csv = pd.read_csv('life_exp_gdp_edu.csv')"
   ]
  },
  {
   "cell_type": "code",
   "execution_count": 4,
   "metadata": {
    "scrolled": true
   },
   "outputs": [
    {
     "data": {
      "text/html": [
       "<div>\n",
       "<style>\n",
       "    .dataframe thead tr:only-child th {\n",
       "        text-align: right;\n",
       "    }\n",
       "\n",
       "    .dataframe thead th {\n",
       "        text-align: left;\n",
       "    }\n",
       "\n",
       "    .dataframe tbody tr th {\n",
       "        vertical-align: top;\n",
       "    }\n",
       "</style>\n",
       "<table border=\"1\" class=\"dataframe\">\n",
       "  <thead>\n",
       "    <tr style=\"text-align: right;\">\n",
       "      <th></th>\n",
       "      <th>Country Name</th>\n",
       "      <th>Country Code</th>\n",
       "      <th>2017 [YR2017] - Life expectancy at birth, total (years) [SP.DYN.LE00.IN]</th>\n",
       "      <th>2017 [YR2017] - GDP per capita (current US$) [NY.GDP.PCAP.CD]</th>\n",
       "      <th>2017 [YR2017] - Adjusted savings: education expenditure (% of GNI) [NY.ADJ.AEDU.GN.ZS]</th>\n",
       "    </tr>\n",
       "  </thead>\n",
       "  <tbody>\n",
       "    <tr>\n",
       "      <th>0</th>\n",
       "      <td>Afghanistan</td>\n",
       "      <td>AFG</td>\n",
       "      <td>64.13</td>\n",
       "      <td>556.302138508508</td>\n",
       "      <td>2.58346697515129</td>\n",
       "    </tr>\n",
       "    <tr>\n",
       "      <th>1</th>\n",
       "      <td>Albania</td>\n",
       "      <td>ALB</td>\n",
       "      <td>78.333</td>\n",
       "      <td>4532.88919785143</td>\n",
       "      <td>3.56614561464118</td>\n",
       "    </tr>\n",
       "    <tr>\n",
       "      <th>2</th>\n",
       "      <td>Algeria</td>\n",
       "      <td>DZA</td>\n",
       "      <td>76.499</td>\n",
       "      <td>4048.28525822561</td>\n",
       "      <td>4.4671956</td>\n",
       "    </tr>\n",
       "    <tr>\n",
       "      <th>3</th>\n",
       "      <td>American Samoa</td>\n",
       "      <td>ASM</td>\n",
       "      <td>..</td>\n",
       "      <td>11398.7774181949</td>\n",
       "      <td>11.760709</td>\n",
       "    </tr>\n",
       "    <tr>\n",
       "      <th>4</th>\n",
       "      <td>Andorra</td>\n",
       "      <td>AND</td>\n",
       "      <td>..</td>\n",
       "      <td>39134.3933706717</td>\n",
       "      <td>2.44</td>\n",
       "    </tr>\n",
       "  </tbody>\n",
       "</table>\n",
       "</div>"
      ],
      "text/plain": [
       "     Country Name Country Code  \\\n",
       "0     Afghanistan          AFG   \n",
       "1         Albania          ALB   \n",
       "2         Algeria          DZA   \n",
       "3  American Samoa          ASM   \n",
       "4         Andorra          AND   \n",
       "\n",
       "  2017 [YR2017] - Life expectancy at birth, total (years) [SP.DYN.LE00.IN]  \\\n",
       "0                                              64.13                         \n",
       "1                                             78.333                         \n",
       "2                                             76.499                         \n",
       "3                                                 ..                         \n",
       "4                                                 ..                         \n",
       "\n",
       "  2017 [YR2017] - GDP per capita (current US$) [NY.GDP.PCAP.CD]  \\\n",
       "0                                   556.302138508508              \n",
       "1                                   4532.88919785143              \n",
       "2                                   4048.28525822561              \n",
       "3                                   11398.7774181949              \n",
       "4                                   39134.3933706717              \n",
       "\n",
       "  2017 [YR2017] - Adjusted savings: education expenditure (% of GNI) [NY.ADJ.AEDU.GN.ZS]  \n",
       "0                                   2.58346697515129                                      \n",
       "1                                   3.56614561464118                                      \n",
       "2                                          4.4671956                                      \n",
       "3                                          11.760709                                      \n",
       "4                                               2.44                                      "
      ]
     },
     "execution_count": 4,
     "metadata": {},
     "output_type": "execute_result"
    }
   ],
   "source": [
    "lge_original_csv.head(5)"
   ]
  },
  {
   "cell_type": "code",
   "execution_count": 5,
   "metadata": {
    "scrolled": true
   },
   "outputs": [
    {
     "data": {
      "text/html": [
       "<div>\n",
       "<style>\n",
       "    .dataframe thead tr:only-child th {\n",
       "        text-align: right;\n",
       "    }\n",
       "\n",
       "    .dataframe thead th {\n",
       "        text-align: left;\n",
       "    }\n",
       "\n",
       "    .dataframe tbody tr th {\n",
       "        vertical-align: top;\n",
       "    }\n",
       "</style>\n",
       "<table border=\"1\" class=\"dataframe\">\n",
       "  <thead>\n",
       "    <tr style=\"text-align: right;\">\n",
       "      <th></th>\n",
       "      <th>Country Name</th>\n",
       "      <th>Country Code</th>\n",
       "      <th>2017 [YR2017] - Life expectancy at birth, total (years) [SP.DYN.LE00.IN]</th>\n",
       "      <th>2017 [YR2017] - GDP per capita (current US$) [NY.GDP.PCAP.CD]</th>\n",
       "      <th>2017 [YR2017] - Adjusted savings: education expenditure (% of GNI) [NY.ADJ.AEDU.GN.ZS]</th>\n",
       "    </tr>\n",
       "  </thead>\n",
       "  <tbody>\n",
       "    <tr>\n",
       "      <th>count</th>\n",
       "      <td>266</td>\n",
       "      <td>264</td>\n",
       "      <td>264</td>\n",
       "      <td>264</td>\n",
       "      <td>264</td>\n",
       "    </tr>\n",
       "    <tr>\n",
       "      <th>unique</th>\n",
       "      <td>266</td>\n",
       "      <td>264</td>\n",
       "      <td>244</td>\n",
       "      <td>245</td>\n",
       "      <td>228</td>\n",
       "    </tr>\n",
       "    <tr>\n",
       "      <th>top</th>\n",
       "      <td>Central Europe and the Baltics</td>\n",
       "      <td>CYM</td>\n",
       "      <td>..</td>\n",
       "      <td>..</td>\n",
       "      <td>..</td>\n",
       "    </tr>\n",
       "    <tr>\n",
       "      <th>freq</th>\n",
       "      <td>1</td>\n",
       "      <td>1</td>\n",
       "      <td>19</td>\n",
       "      <td>18</td>\n",
       "      <td>32</td>\n",
       "    </tr>\n",
       "  </tbody>\n",
       "</table>\n",
       "</div>"
      ],
      "text/plain": [
       "                          Country Name Country Code  \\\n",
       "count                              266          264   \n",
       "unique                             266          264   \n",
       "top     Central Europe and the Baltics          CYM   \n",
       "freq                                 1            1   \n",
       "\n",
       "       2017 [YR2017] - Life expectancy at birth, total (years) [SP.DYN.LE00.IN]  \\\n",
       "count                                                 264                         \n",
       "unique                                                244                         \n",
       "top                                                    ..                         \n",
       "freq                                                   19                         \n",
       "\n",
       "       2017 [YR2017] - GDP per capita (current US$) [NY.GDP.PCAP.CD]  \\\n",
       "count                                                 264              \n",
       "unique                                                245              \n",
       "top                                                    ..              \n",
       "freq                                                   18              \n",
       "\n",
       "       2017 [YR2017] - Adjusted savings: education expenditure (% of GNI) [NY.ADJ.AEDU.GN.ZS]  \n",
       "count                                                 264                                      \n",
       "unique                                                228                                      \n",
       "top                                                    ..                                      \n",
       "freq                                                   32                                      "
      ]
     },
     "execution_count": 5,
     "metadata": {},
     "output_type": "execute_result"
    }
   ],
   "source": [
    "lge_original_csv.describe()"
   ]
  },
  {
   "cell_type": "markdown",
   "metadata": {},
   "source": [
    "We change the column names to shorter ones."
   ]
  },
  {
   "cell_type": "code",
   "execution_count": 6,
   "metadata": {
    "collapsed": true
   },
   "outputs": [],
   "source": [
    "lge_original_csv.rename(\n",
    "    columns = {\n",
    "        'Country Name' : 'Cname',\n",
    "        'Country Code' : 'Ccode',\n",
    "        '2017 [YR2017] - Life expectancy at birth, total (years) [SP.DYN.LE00.IN]' : 'Expectancy',\n",
    "        '2017 [YR2017] - GDP per capita (current US$) [NY.GDP.PCAP.CD]' : 'GDP',\n",
    "        '2017 [YR2017] - Adjusted savings: education expenditure (% of GNI) [NY.ADJ.AEDU.GN.ZS]' : 'education'\n",
    "    },\n",
    "    inplace = True\n",
    ")"
   ]
  },
  {
   "cell_type": "code",
   "execution_count": 7,
   "metadata": {},
   "outputs": [
    {
     "data": {
      "text/html": [
       "<div>\n",
       "<style>\n",
       "    .dataframe thead tr:only-child th {\n",
       "        text-align: right;\n",
       "    }\n",
       "\n",
       "    .dataframe thead th {\n",
       "        text-align: left;\n",
       "    }\n",
       "\n",
       "    .dataframe tbody tr th {\n",
       "        vertical-align: top;\n",
       "    }\n",
       "</style>\n",
       "<table border=\"1\" class=\"dataframe\">\n",
       "  <thead>\n",
       "    <tr style=\"text-align: right;\">\n",
       "      <th></th>\n",
       "      <th>Cname</th>\n",
       "      <th>Ccode</th>\n",
       "      <th>Expectancy</th>\n",
       "      <th>GDP</th>\n",
       "      <th>education</th>\n",
       "    </tr>\n",
       "  </thead>\n",
       "  <tbody>\n",
       "    <tr>\n",
       "      <th>0</th>\n",
       "      <td>Afghanistan</td>\n",
       "      <td>AFG</td>\n",
       "      <td>64.13</td>\n",
       "      <td>556.302138508508</td>\n",
       "      <td>2.58346697515129</td>\n",
       "    </tr>\n",
       "    <tr>\n",
       "      <th>1</th>\n",
       "      <td>Albania</td>\n",
       "      <td>ALB</td>\n",
       "      <td>78.333</td>\n",
       "      <td>4532.88919785143</td>\n",
       "      <td>3.56614561464118</td>\n",
       "    </tr>\n",
       "    <tr>\n",
       "      <th>2</th>\n",
       "      <td>Algeria</td>\n",
       "      <td>DZA</td>\n",
       "      <td>76.499</td>\n",
       "      <td>4048.28525822561</td>\n",
       "      <td>4.4671956</td>\n",
       "    </tr>\n",
       "    <tr>\n",
       "      <th>3</th>\n",
       "      <td>American Samoa</td>\n",
       "      <td>ASM</td>\n",
       "      <td>..</td>\n",
       "      <td>11398.7774181949</td>\n",
       "      <td>11.760709</td>\n",
       "    </tr>\n",
       "    <tr>\n",
       "      <th>4</th>\n",
       "      <td>Andorra</td>\n",
       "      <td>AND</td>\n",
       "      <td>..</td>\n",
       "      <td>39134.3933706717</td>\n",
       "      <td>2.44</td>\n",
       "    </tr>\n",
       "  </tbody>\n",
       "</table>\n",
       "</div>"
      ],
      "text/plain": [
       "            Cname Ccode Expectancy               GDP         education\n",
       "0     Afghanistan   AFG      64.13  556.302138508508  2.58346697515129\n",
       "1         Albania   ALB     78.333  4532.88919785143  3.56614561464118\n",
       "2         Algeria   DZA     76.499  4048.28525822561         4.4671956\n",
       "3  American Samoa   ASM         ..  11398.7774181949         11.760709\n",
       "4         Andorra   AND         ..  39134.3933706717              2.44"
      ]
     },
     "execution_count": 7,
     "metadata": {},
     "output_type": "execute_result"
    }
   ],
   "source": [
    "lge_original_csv.head(5)"
   ]
  },
  {
   "cell_type": "markdown",
   "metadata": {},
   "source": [
    "### Filtering Information to Remove Blanks"
   ]
  },
  {
   "cell_type": "markdown",
   "metadata": {},
   "source": [
    "Here we create the filters by comparing the contents against the string '..' that was used in the original dataset to express \"No Data Available\"."
   ]
  },
  {
   "cell_type": "code",
   "execution_count": 8,
   "metadata": {
    "collapsed": true
   },
   "outputs": [],
   "source": [
    "lexp = lge_original_csv['Expectancy'] != '..'\n",
    "gdp = lge_original_csv['GDP'] != '..'\n",
    "edu = lge_original_csv['education'] != '..'"
   ]
  },
  {
   "cell_type": "code",
   "execution_count": 9,
   "metadata": {},
   "outputs": [
    {
     "data": {
      "text/plain": [
       "0     True\n",
       "1     True\n",
       "2     True\n",
       "3    False\n",
       "4    False\n",
       "Name: Expectancy, dtype: bool"
      ]
     },
     "execution_count": 9,
     "metadata": {},
     "output_type": "execute_result"
    }
   ],
   "source": [
    "lexp.head(5)"
   ]
  },
  {
   "cell_type": "markdown",
   "metadata": {},
   "source": [
    "Filtering out the rows with at least one '..' and at the same time erasing all NaNs produced by the filtering."
   ]
  },
  {
   "cell_type": "code",
   "execution_count": 10,
   "metadata": {
    "collapsed": true
   },
   "outputs": [],
   "source": [
    "lge_clean = lge_original_csv[lexp & gdp & edu].dropna()"
   ]
  },
  {
   "cell_type": "code",
   "execution_count": 11,
   "metadata": {
    "scrolled": true
   },
   "outputs": [
    {
     "data": {
      "text/html": [
       "<div>\n",
       "<style>\n",
       "    .dataframe thead tr:only-child th {\n",
       "        text-align: right;\n",
       "    }\n",
       "\n",
       "    .dataframe thead th {\n",
       "        text-align: left;\n",
       "    }\n",
       "\n",
       "    .dataframe tbody tr th {\n",
       "        vertical-align: top;\n",
       "    }\n",
       "</style>\n",
       "<table border=\"1\" class=\"dataframe\">\n",
       "  <thead>\n",
       "    <tr style=\"text-align: right;\">\n",
       "      <th></th>\n",
       "      <th>Cname</th>\n",
       "      <th>Ccode</th>\n",
       "      <th>Expectancy</th>\n",
       "      <th>GDP</th>\n",
       "      <th>education</th>\n",
       "    </tr>\n",
       "  </thead>\n",
       "  <tbody>\n",
       "    <tr>\n",
       "      <th>0</th>\n",
       "      <td>Afghanistan</td>\n",
       "      <td>AFG</td>\n",
       "      <td>64.13</td>\n",
       "      <td>556.302138508508</td>\n",
       "      <td>2.58346697515129</td>\n",
       "    </tr>\n",
       "    <tr>\n",
       "      <th>1</th>\n",
       "      <td>Albania</td>\n",
       "      <td>ALB</td>\n",
       "      <td>78.333</td>\n",
       "      <td>4532.88919785143</td>\n",
       "      <td>3.56614561464118</td>\n",
       "    </tr>\n",
       "    <tr>\n",
       "      <th>2</th>\n",
       "      <td>Algeria</td>\n",
       "      <td>DZA</td>\n",
       "      <td>76.499</td>\n",
       "      <td>4048.28525822561</td>\n",
       "      <td>4.4671956</td>\n",
       "    </tr>\n",
       "    <tr>\n",
       "      <th>5</th>\n",
       "      <td>Angola</td>\n",
       "      <td>AGO</td>\n",
       "      <td>60.379</td>\n",
       "      <td>4095.81294155857</td>\n",
       "      <td>3.57</td>\n",
       "    </tr>\n",
       "    <tr>\n",
       "      <th>6</th>\n",
       "      <td>Antigua and Barbuda</td>\n",
       "      <td>ATG</td>\n",
       "      <td>76.752</td>\n",
       "      <td>15824.6678131824</td>\n",
       "      <td>2.25</td>\n",
       "    </tr>\n",
       "  </tbody>\n",
       "</table>\n",
       "</div>"
      ],
      "text/plain": [
       "                 Cname Ccode Expectancy               GDP         education\n",
       "0          Afghanistan   AFG      64.13  556.302138508508  2.58346697515129\n",
       "1              Albania   ALB     78.333  4532.88919785143  3.56614561464118\n",
       "2              Algeria   DZA     76.499  4048.28525822561         4.4671956\n",
       "5               Angola   AGO     60.379  4095.81294155857              3.57\n",
       "6  Antigua and Barbuda   ATG     76.752  15824.6678131824              2.25"
      ]
     },
     "execution_count": 11,
     "metadata": {},
     "output_type": "execute_result"
    }
   ],
   "source": [
    "lge_clean.head(5)"
   ]
  },
  {
   "cell_type": "code",
   "execution_count": 12,
   "metadata": {},
   "outputs": [
    {
     "data": {
      "text/html": [
       "<div>\n",
       "<style>\n",
       "    .dataframe thead tr:only-child th {\n",
       "        text-align: right;\n",
       "    }\n",
       "\n",
       "    .dataframe thead th {\n",
       "        text-align: left;\n",
       "    }\n",
       "\n",
       "    .dataframe tbody tr th {\n",
       "        vertical-align: top;\n",
       "    }\n",
       "</style>\n",
       "<table border=\"1\" class=\"dataframe\">\n",
       "  <thead>\n",
       "    <tr style=\"text-align: right;\">\n",
       "      <th></th>\n",
       "      <th>Cname</th>\n",
       "      <th>Ccode</th>\n",
       "      <th>Expectancy</th>\n",
       "      <th>GDP</th>\n",
       "      <th>education</th>\n",
       "    </tr>\n",
       "  </thead>\n",
       "  <tbody>\n",
       "    <tr>\n",
       "      <th>count</th>\n",
       "      <td>217</td>\n",
       "      <td>217</td>\n",
       "      <td>217</td>\n",
       "      <td>217</td>\n",
       "      <td>217</td>\n",
       "    </tr>\n",
       "    <tr>\n",
       "      <th>unique</th>\n",
       "      <td>217</td>\n",
       "      <td>217</td>\n",
       "      <td>216</td>\n",
       "      <td>216</td>\n",
       "      <td>213</td>\n",
       "    </tr>\n",
       "    <tr>\n",
       "      <th>top</th>\n",
       "      <td>Central Europe and the Baltics</td>\n",
       "      <td>SAS</td>\n",
       "      <td>69.1713119009688</td>\n",
       "      <td>1867.27224804395</td>\n",
       "      <td>2.07546880725027</td>\n",
       "    </tr>\n",
       "    <tr>\n",
       "      <th>freq</th>\n",
       "      <td>1</td>\n",
       "      <td>1</td>\n",
       "      <td>2</td>\n",
       "      <td>2</td>\n",
       "      <td>2</td>\n",
       "    </tr>\n",
       "  </tbody>\n",
       "</table>\n",
       "</div>"
      ],
      "text/plain": [
       "                                 Cname Ccode        Expectancy  \\\n",
       "count                              217   217               217   \n",
       "unique                             217   217               216   \n",
       "top     Central Europe and the Baltics   SAS  69.1713119009688   \n",
       "freq                                 1     1                 2   \n",
       "\n",
       "                     GDP         education  \n",
       "count                217               217  \n",
       "unique               216               213  \n",
       "top     1867.27224804395  2.07546880725027  \n",
       "freq                   2                 2  "
      ]
     },
     "execution_count": 12,
     "metadata": {},
     "output_type": "execute_result"
    }
   ],
   "source": [
    "lge_clean.describe()"
   ]
  },
  {
   "cell_type": "markdown",
   "metadata": {},
   "source": [
    "We will extract the information from the relevant columns and then convert the text to floating point numbers."
   ]
  },
  {
   "cell_type": "code",
   "execution_count": 13,
   "metadata": {},
   "outputs": [],
   "source": [
    "l_series = lge_clean['Expectancy'].astype(float)\n",
    "g_series = lge_clean['GDP'].astype(float)\n",
    "e_series = lge_clean['education'].astype(float)\n",
    "name_series = lge_clean['Cname']"
   ]
  },
  {
   "cell_type": "code",
   "execution_count": 14,
   "metadata": {
    "scrolled": true
   },
   "outputs": [
    {
     "data": {
      "text/plain": [
       "0    64.130\n",
       "1    78.333\n",
       "2    76.499\n",
       "5    60.379\n",
       "6    76.752\n",
       "Name: Expectancy, dtype: float64"
      ]
     },
     "execution_count": 14,
     "metadata": {},
     "output_type": "execute_result"
    }
   ],
   "source": [
    "l_series.head(5)"
   ]
  },
  {
   "cell_type": "markdown",
   "metadata": {},
   "source": [
    "We need to create a dataframe with the numerical columns we obtained."
   ]
  },
  {
   "cell_type": "code",
   "execution_count": 15,
   "metadata": {
    "collapsed": true
   },
   "outputs": [],
   "source": [
    "df=pd.concat([name_series, l_series, g_series, e_series],axis=1)"
   ]
  },
  {
   "cell_type": "code",
   "execution_count": 16,
   "metadata": {
    "scrolled": true
   },
   "outputs": [
    {
     "data": {
      "text/html": [
       "<div>\n",
       "<style>\n",
       "    .dataframe thead tr:only-child th {\n",
       "        text-align: right;\n",
       "    }\n",
       "\n",
       "    .dataframe thead th {\n",
       "        text-align: left;\n",
       "    }\n",
       "\n",
       "    .dataframe tbody tr th {\n",
       "        vertical-align: top;\n",
       "    }\n",
       "</style>\n",
       "<table border=\"1\" class=\"dataframe\">\n",
       "  <thead>\n",
       "    <tr style=\"text-align: right;\">\n",
       "      <th></th>\n",
       "      <th>Cname</th>\n",
       "      <th>Expectancy</th>\n",
       "      <th>GDP</th>\n",
       "      <th>education</th>\n",
       "    </tr>\n",
       "  </thead>\n",
       "  <tbody>\n",
       "    <tr>\n",
       "      <th>0</th>\n",
       "      <td>Afghanistan</td>\n",
       "      <td>64.130</td>\n",
       "      <td>556.302139</td>\n",
       "      <td>2.583467</td>\n",
       "    </tr>\n",
       "    <tr>\n",
       "      <th>1</th>\n",
       "      <td>Albania</td>\n",
       "      <td>78.333</td>\n",
       "      <td>4532.889198</td>\n",
       "      <td>3.566146</td>\n",
       "    </tr>\n",
       "    <tr>\n",
       "      <th>2</th>\n",
       "      <td>Algeria</td>\n",
       "      <td>76.499</td>\n",
       "      <td>4048.285258</td>\n",
       "      <td>4.467196</td>\n",
       "    </tr>\n",
       "    <tr>\n",
       "      <th>5</th>\n",
       "      <td>Angola</td>\n",
       "      <td>60.379</td>\n",
       "      <td>4095.812942</td>\n",
       "      <td>3.570000</td>\n",
       "    </tr>\n",
       "    <tr>\n",
       "      <th>6</th>\n",
       "      <td>Antigua and Barbuda</td>\n",
       "      <td>76.752</td>\n",
       "      <td>15824.667813</td>\n",
       "      <td>2.250000</td>\n",
       "    </tr>\n",
       "  </tbody>\n",
       "</table>\n",
       "</div>"
      ],
      "text/plain": [
       "                 Cname  Expectancy           GDP  education\n",
       "0          Afghanistan      64.130    556.302139   2.583467\n",
       "1              Albania      78.333   4532.889198   3.566146\n",
       "2              Algeria      76.499   4048.285258   4.467196\n",
       "5               Angola      60.379   4095.812942   3.570000\n",
       "6  Antigua and Barbuda      76.752  15824.667813   2.250000"
      ]
     },
     "execution_count": 16,
     "metadata": {},
     "output_type": "execute_result"
    }
   ],
   "source": [
    "df.head(5)"
   ]
  },
  {
   "cell_type": "code",
   "execution_count": 17,
   "metadata": {
    "scrolled": true
   },
   "outputs": [
    {
     "data": {
      "text/html": [
       "<div>\n",
       "<style>\n",
       "    .dataframe thead tr:only-child th {\n",
       "        text-align: right;\n",
       "    }\n",
       "\n",
       "    .dataframe thead th {\n",
       "        text-align: left;\n",
       "    }\n",
       "\n",
       "    .dataframe tbody tr th {\n",
       "        vertical-align: top;\n",
       "    }\n",
       "</style>\n",
       "<table border=\"1\" class=\"dataframe\">\n",
       "  <thead>\n",
       "    <tr style=\"text-align: right;\">\n",
       "      <th></th>\n",
       "      <th>Expectancy</th>\n",
       "      <th>GDP</th>\n",
       "      <th>education</th>\n",
       "    </tr>\n",
       "  </thead>\n",
       "  <tbody>\n",
       "    <tr>\n",
       "      <th>count</th>\n",
       "      <td>217.000000</td>\n",
       "      <td>217.000000</td>\n",
       "      <td>217.000000</td>\n",
       "    </tr>\n",
       "    <tr>\n",
       "      <th>mean</th>\n",
       "      <td>72.235864</td>\n",
       "      <td>13859.412826</td>\n",
       "      <td>4.310711</td>\n",
       "    </tr>\n",
       "    <tr>\n",
       "      <th>std</th>\n",
       "      <td>7.455831</td>\n",
       "      <td>18575.104452</td>\n",
       "      <td>2.244613</td>\n",
       "    </tr>\n",
       "    <tr>\n",
       "      <th>min</th>\n",
       "      <td>52.240000</td>\n",
       "      <td>293.009062</td>\n",
       "      <td>0.850000</td>\n",
       "    </tr>\n",
       "    <tr>\n",
       "      <th>25%</th>\n",
       "      <td>67.252000</td>\n",
       "      <td>1867.272248</td>\n",
       "      <td>2.920000</td>\n",
       "    </tr>\n",
       "    <tr>\n",
       "      <th>50%</th>\n",
       "      <td>73.689000</td>\n",
       "      <td>6006.360622</td>\n",
       "      <td>4.085382</td>\n",
       "    </tr>\n",
       "    <tr>\n",
       "      <th>75%</th>\n",
       "      <td>77.632000</td>\n",
       "      <td>16076.082038</td>\n",
       "      <td>5.079850</td>\n",
       "    </tr>\n",
       "    <tr>\n",
       "      <th>max</th>\n",
       "      <td>84.680488</td>\n",
       "      <td>104498.738671</td>\n",
       "      <td>23.628830</td>\n",
       "    </tr>\n",
       "  </tbody>\n",
       "</table>\n",
       "</div>"
      ],
      "text/plain": [
       "       Expectancy            GDP   education\n",
       "count  217.000000     217.000000  217.000000\n",
       "mean    72.235864   13859.412826    4.310711\n",
       "std      7.455831   18575.104452    2.244613\n",
       "min     52.240000     293.009062    0.850000\n",
       "25%     67.252000    1867.272248    2.920000\n",
       "50%     73.689000    6006.360622    4.085382\n",
       "75%     77.632000   16076.082038    5.079850\n",
       "max     84.680488  104498.738671   23.628830"
      ]
     },
     "execution_count": 17,
     "metadata": {},
     "output_type": "execute_result"
    }
   ],
   "source": [
    "df.describe()"
   ]
  },
  {
   "cell_type": "markdown",
   "metadata": {},
   "source": [
    "We begin by creating a simple scatter plot."
   ]
  },
  {
   "cell_type": "code",
   "execution_count": 18,
   "metadata": {},
   "outputs": [
    {
     "data": {
      "text/html": [
       "<div class=\"vega-embed\" id=\"22cbe519-a60c-41b0-8f61-cc59c6afbfb4\"></div>\n",
       "\n",
       "<style>\n",
       ".vega-embed svg, .vega-embed canvas {\n",
       "  border: 1px dotted gray;\n",
       "}\n",
       "\n",
       ".vega-embed .vega-actions a {\n",
       "  margin-right: 6px;\n",
       "}\n",
       "</style>\n"
      ]
     },
     "metadata": {
      "jupyter-vega": "#22cbe519-a60c-41b0-8f61-cc59c6afbfb4"
     },
     "output_type": "display_data"
    },
    {
     "data": {
      "application/javascript": [
       "var spec = {\"config\": {\"cell\": {\"width\": 500, \"height\": 350}}, \"encoding\": {\"size\": {\"field\": \"education\", \"type\": \"quantitative\"}, \"x\": {\"field\": \"GDP\", \"type\": \"quantitative\"}, \"y\": {\"field\": \"Expectancy\", \"type\": \"quantitative\"}}, \"mark\": \"point\", \"data\": {\"values\": [{\"Cname\": \"Afghanistan\", \"Expectancy\": 64.13, \"GDP\": 556.302138508508, \"education\": 2.58346697515129}, {\"Cname\": \"Albania\", \"Expectancy\": 78.333, \"GDP\": 4532.88919785143, \"education\": 3.56614561464118}, {\"Cname\": \"Algeria\", \"Expectancy\": 76.499, \"GDP\": 4048.28525822561, \"education\": 4.4671956}, {\"Cname\": \"Angola\", \"Expectancy\": 60.379, \"GDP\": 4095.81294155857, \"education\": 3.57}, {\"Cname\": \"Antigua and Barbuda\", \"Expectancy\": 76.752, \"GDP\": 15824.6678131824, \"education\": 2.25}, {\"Cname\": \"Argentina\", \"Expectancy\": 76.372, \"GDP\": 14591.8633810541, \"education\": 5.0798502823842}, {\"Cname\": \"Armenia\", \"Expectancy\": 74.797, \"GDP\": 3914.5012684128, \"education\": 2.44962342770082}, {\"Cname\": \"Aruba\", \"Expectancy\": 76.01, \"GDP\": 25630.2664922069, \"education\": 6.79393890520161}, {\"Cname\": \"Australia\", \"Expectancy\": 82.4975609756098, \"GDP\": 54093.6021908944, \"education\": 5.02569397199148}, {\"Cname\": \"Austria\", \"Expectancy\": 81.6414634146342, \"GDP\": 47380.8296365374, \"education\": 5.20821584697537}, {\"Cname\": \"Azerbaijan\", \"Expectancy\": 72.693, \"GDP\": 4147.08971569171, \"education\": 3.04728063823981}, {\"Cname\": \"Bahamas, The\", \"Expectancy\": 73.554, \"GDP\": 31857.890145929, \"education\": 3.8356}, {\"Cname\": \"Bahrain\", \"Expectancy\": 77.032, \"GDP\": 23715.4827473156, \"education\": 2.91}, {\"Cname\": \"Bangladesh\", \"Expectancy\": 72.052, \"GDP\": 1563.99408178663, \"education\": 1.24455028186433}, {\"Cname\": \"Barbados\", \"Expectancy\": 78.981, \"GDP\": 16327.6072290756, \"education\": 4.67318799991905}, {\"Cname\": \"Belarus\", \"Expectancy\": 74.1292682926829, \"GDP\": 5761.74712023007, \"education\": 4.72719716085529}, {\"Cname\": \"Belgium\", \"Expectancy\": 81.4390243902439, \"GDP\": 43507.2382031326, \"education\": 6.26336869911248}, {\"Cname\": \"Belize\", \"Expectancy\": 74.365, \"GDP\": 4956.8080389814, \"education\": 6.39}, {\"Cname\": \"Benin\", \"Expectancy\": 61.174, \"GDP\": 827.429810110093, \"education\": 4.0262740133652}, {\"Cname\": \"Bhutan\", \"Expectancy\": 71.129, \"GDP\": 3390.71407484432, \"education\": 6.82772611051388}, {\"Cname\": \"Bolivia\", \"Expectancy\": 70.945, \"GDP\": 3351.12405268555, \"education\": 6.08}, {\"Cname\": \"Botswana\", \"Expectancy\": 68.812, \"GDP\": 7893.67593323318, \"education\": 9.48}, {\"Cname\": \"Brazil\", \"Expectancy\": 75.456, \"GDP\": 9880.94654326324, \"education\": 6.13085805752318}, {\"Cname\": \"Brunei Darussalam\", \"Expectancy\": 75.585, \"GDP\": 28572.1094155048, \"education\": 3.99012735468281}, {\"Cname\": \"Bulgaria\", \"Expectancy\": 74.8121951219512, \"GDP\": 8228.0115697265, \"education\": 3.85046174610092}, {\"Cname\": \"Burkina Faso\", \"Expectancy\": 60.768, \"GDP\": 642.040426480339, \"education\": 4.31}, {\"Cname\": \"Burundi\", \"Expectancy\": 60.898, \"GDP\": 293.009061990821, \"education\": 5.17552163934371}, {\"Cname\": \"Cabo Verde\", \"Expectancy\": 72.57, \"GDP\": 3295.34110553408, \"education\": 5.30225483706793}, {\"Cname\": \"Cambodia\", \"Expectancy\": 69.289, \"GDP\": 1385.2599796333, \"education\": 2.00417583665778}, {\"Cname\": \"Cameroon\", \"Expectancy\": 58.511, \"GDP\": 1421.58749243688, \"education\": 2.68}, {\"Cname\": \"Canada\", \"Expectancy\": 82.2489756097561, \"GDP\": 45069.9272544324, \"education\": 4.93}, {\"Cname\": \"Central African Republic\", \"Expectancy\": 52.24, \"GDP\": 471.603227780125, \"education\": 1.15}, {\"Cname\": \"Chad\", \"Expectancy\": 53.712, \"GDP\": 664.303315726258, \"education\": 1.76559843813365}, {\"Cname\": \"Chile\", \"Expectancy\": 79.909, \"GDP\": 15037.3501089968, \"education\": 4.57}, {\"Cname\": \"China\", \"Expectancy\": 76.47, \"GDP\": 8759.04157775098, \"education\": 1.79}, {\"Cname\": \"Colombia\", \"Expectancy\": 76.925, \"GDP\": 6375.93206285311, \"education\": 3.43807972153788}, {\"Cname\": \"Comoros\", \"Expectancy\": 63.912, \"GDP\": 1312.36617372154, \"education\": 4.32753822778434}, {\"Cname\": \"Congo, Dem. Rep.\", \"Expectancy\": 60.026, \"GDP\": 467.07423746454, \"education\": 2.06}, {\"Cname\": \"Congo, Rep.\", \"Expectancy\": 63.954, \"GDP\": 1702.571349341, \"education\": 2.52}, {\"Cname\": \"Costa Rica\", \"Expectancy\": 79.914, \"GDP\": 11752.5436017285, \"education\": 7.4904765696434}, {\"Cname\": \"Cote d'Ivoire\", \"Expectancy\": 57.017, \"GDP\": 1557.18294760465, \"education\": 4.68782252141213}, {\"Cname\": \"Croatia\", \"Expectancy\": 77.8268292682927, \"GDP\": 13383.6834974431, \"education\": 4.50599016634406}, {\"Cname\": \"Cuba\", \"Expectancy\": 78.662, \"GDP\": 8541.2106734664, \"education\": 13.01}, {\"Cname\": \"Cyprus\", \"Expectancy\": 80.672, \"GDP\": 25760.7627043417, \"education\": 6.03770735397155}, {\"Cname\": \"Czech Republic\", \"Expectancy\": 79.4756097560976, \"GDP\": 20379.8960396417, \"education\": 5.73207592681736}, {\"Cname\": \"Denmark\", \"Expectancy\": 81.0048780487805, \"GDP\": 57218.8548516791, \"education\": 6.89503347515119}, {\"Cname\": \"Djibouti\", \"Expectancy\": 65.893, \"GDP\": 1953.9035019746, \"education\": 7.43194220799754}, {\"Cname\": \"Dominican Republic\", \"Expectancy\": 73.689, \"GDP\": 7222.55404357246, \"education\": 2.51925224689344}, {\"Cname\": \"Ecuador\", \"Expectancy\": 76.584, \"GDP\": 6213.50127649921, \"education\": 3.93}, {\"Cname\": \"Egypt, Arab Rep.\", \"Expectancy\": 71.656, \"GDP\": 2440.51017311107, \"education\": 4.4111256}, {\"Cname\": \"El Salvador\", \"Expectancy\": 72.872, \"GDP\": 3902.23762163591, \"education\": 3.79244013801384}, {\"Cname\": \"Equatorial Guinea\", \"Expectancy\": 58.061, \"GDP\": 9738.43422416926, \"education\": 1.0}, {\"Cname\": \"Estonia\", \"Expectancy\": 77.6414634146342, \"GDP\": 20200.3755920409, \"education\": 4.88682714998714}, {\"Cname\": \"Eswatini\", \"Expectancy\": 58.319, \"GDP\": 3941.90045658669, \"education\": 6.79075095823497}, {\"Cname\": \"Ethiopia\", \"Expectancy\": 65.872, \"GDP\": 768.010416339934, \"education\": 3.07445542138199}, {\"Cname\": \"Fiji\", \"Expectancy\": 67.252, \"GDP\": 6006.36062164463, \"education\": 3.9550818121829}, {\"Cname\": \"Finland\", \"Expectancy\": 81.4292682926829, \"GDP\": 45809.9733841366, \"education\": 6.409666691232}, {\"Cname\": \"France\", \"Expectancy\": 82.5243902439024, \"GDP\": 38679.1271482419, \"education\": 4.93540653407537}, {\"Cname\": \"Gabon\", \"Expectancy\": 65.839, \"GDP\": 7212.53574430676, \"education\": 3.06}, {\"Cname\": \"Gambia, The\", \"Expectancy\": 61.44, \"GDP\": 672.780534143022, \"education\": 2.66}, {\"Cname\": \"Georgia\", \"Expectancy\": 73.414, \"GDP\": 4045.41704955757, \"education\": 1.76}, {\"Cname\": \"Germany\", \"Expectancy\": 80.990243902439, \"GDP\": 44681.0825806359, \"education\": 4.39415862658896}, {\"Cname\": \"Ghana\", \"Expectancy\": 63.463, \"GDP\": 2025.88585736016, \"education\": 5.81799798072703}, {\"Cname\": \"Greece\", \"Expectancy\": 81.3878048780488, \"GDP\": 18883.4600669282, \"education\": 3.1}, {\"Cname\": \"Grenada\", \"Expectancy\": 72.388, \"GDP\": 10163.6298527725, \"education\": 3.75}, {\"Cname\": \"Guam\", \"Expectancy\": 79.631, \"GDP\": 35664.5016770046, \"education\": 8.3161306}, {\"Cname\": \"Guatemala\", \"Expectancy\": 73.81, \"GDP\": 4470.61079849788, \"education\": 2.72109257190677}, {\"Cname\": \"Guinea\", \"Expectancy\": 60.706, \"GDP\": 821.651460927645, \"education\": 1.94968619237057}, {\"Cname\": \"Guinea-Bissau\", \"Expectancy\": 57.673, \"GDP\": 736.725566231783, \"education\": 1.16}, {\"Cname\": \"Guyana\", \"Expectancy\": 69.624, \"GDP\": 4586.05457171312, \"education\": 2.92}, {\"Cname\": \"Haiti\", \"Expectancy\": 63.29, \"GDP\": 765.61398474258, \"education\": 1.461652}, {\"Cname\": \"Honduras\", \"Expectancy\": 74.898, \"GDP\": 2432.9353638196, \"education\": 6.33}, {\"Cname\": \"Hong Kong SAR, China\", \"Expectancy\": 84.6804878048781, \"GDP\": 46220.5045489974, \"education\": 2.83813341683383}, {\"Cname\": \"Hungary\", \"Expectancy\": 76.0634146341464, \"GDP\": 14278.8744978024, \"education\": 4.47121720666698}, {\"Cname\": \"Iceland\", \"Expectancy\": 82.2048780487805, \"GDP\": 71314.774196294, \"education\": 7.63889233350717}, {\"Cname\": \"India\", \"Expectancy\": 69.165, \"GDP\": 1981.49904456819, \"education\": 3.08}, {\"Cname\": \"Indonesia\", \"Expectancy\": 71.282, \"GDP\": 3836.91381389271, \"education\": 3.26845150708731}, {\"Cname\": \"Iran, Islamic Rep.\", \"Expectancy\": 76.271, \"GDP\": 5627.74926845456, \"education\": 3.62109701059516}, {\"Cname\": \"Iraq\", \"Expectancy\": 70.294, \"GDP\": 5143.66123200793, \"education\": 4.6}, {\"Cname\": \"Ireland\", \"Expectancy\": 81.9560975609756, \"GDP\": 69649.8827399743, \"education\": 4.55997965691684}, {\"Cname\": \"Israel\", \"Expectancy\": 82.6024390243903, \"GDP\": 40543.5841665702, \"education\": 5.37785176767282}, {\"Cname\": \"Italy\", \"Expectancy\": 83.2439024390244, \"GDP\": 32155.2058659338, \"education\": 3.8986026842245}, {\"Cname\": \"Jamaica\", \"Expectancy\": 74.267, \"GDP\": 5060.54492360667, \"education\": 5.30046090291714}, {\"Cname\": \"Japan\", \"Expectancy\": 84.099756097561, \"GDP\": 38331.9793978104, \"education\": 2.95170437430775}, {\"Cname\": \"Jordan\", \"Expectancy\": 74.292, \"GDP\": 4168.64160383499, \"education\": 3.41437628418393}, {\"Cname\": \"Kazakhstan\", \"Expectancy\": 72.95, \"GDP\": 9030.31880602652, \"education\": 3.156958878705}, {\"Cname\": \"Kenya\", \"Expectancy\": 65.909, \"GDP\": 1568.20154066387, \"education\": 4.93061964347231}, {\"Cname\": \"Kiribati\", \"Expectancy\": 67.851, \"GDP\": 1625.575969558, \"education\": 6.1}, {\"Cname\": \"Korea, Rep.\", \"Expectancy\": 82.6268292682927, \"GDP\": 29742.8388613471, \"education\": 4.63873508046876}, {\"Cname\": \"Kuwait\", \"Expectancy\": 75.311, \"GDP\": 29474.5414315342, \"education\": 3.19}, {\"Cname\": \"Kyrgyz Republic\", \"Expectancy\": 71.2, \"GDP\": 1242.76964282023, \"education\": 5.71390360055359}, {\"Cname\": \"Lao PDR\", \"Expectancy\": 67.277, \"GDP\": 2423.8462031921, \"education\": 2.61316365817389}, {\"Cname\": \"Latvia\", \"Expectancy\": 74.6804878048781, \"GDP\": 15684.558518649, \"education\": 4.5285167416953}, {\"Cname\": \"Lebanon\", \"Expectancy\": 78.833, \"GDP\": 7838.34338489943, \"education\": 2.1}, {\"Cname\": \"Lesotho\", \"Expectancy\": 52.947, \"GDP\": 1232.78691893924, \"education\": 9.73}, {\"Cname\": \"Liberia\", \"Expectancy\": 63.295, \"GDP\": 698.70176435511, \"education\": 3.66}, {\"Cname\": \"Libya\", \"Expectancy\": 72.52, \"GDP\": 5792.06510994303, \"education\": 2.1374382}, {\"Cname\": \"Lithuania\", \"Expectancy\": 74.6707317073171, \"GDP\": 16809.6482569674, \"education\": 5.26114021961825}, {\"Cname\": \"Luxembourg\", \"Expectancy\": 82.6853658536585, \"GDP\": 104498.738671031, \"education\": 5.22229265595093}, {\"Cname\": \"Macao SAR, China\", \"Expectancy\": 83.989, \"GDP\": 81208.882074735, \"education\": 3.09478008856138}, {\"Cname\": \"Madagascar\", \"Expectancy\": 66.311, \"GDP\": 448.400796541908, \"education\": 2.08}, {\"Cname\": \"Malawi\", \"Expectancy\": 63.279, \"GDP\": 356.717573153369, \"education\": 4.72472137911893}, {\"Cname\": \"Malaysia\", \"Expectancy\": 75.828, \"GDP\": 10117.569032569, \"education\": 4.57660287167737}, {\"Cname\": \"Maldives\", \"Expectancy\": 78.325, \"GDP\": 9801.62454193575, \"education\": 4.58814870580493}, {\"Cname\": \"Mali\", \"Expectancy\": 58.452, \"GDP\": 828.613220238384, \"education\": 3.74045533480575}, {\"Cname\": \"Malta\", \"Expectancy\": 82.4536585365854, \"GDP\": 27241.0906440045, \"education\": 4.73799650688022}, {\"Cname\": \"Mauritania\", \"Expectancy\": 64.464, \"GDP\": 1161.78545671604, \"education\": 2.93}, {\"Cname\": \"Mauritius\", \"Expectancy\": 74.5146341463415, \"GDP\": 10484.9083620411, \"education\": 4.77}, {\"Cname\": \"Mexico\", \"Expectancy\": 74.947, \"GDP\": 9281.10148290743, \"education\": 5.21283853813689}, {\"Cname\": \"Micronesia, Fed. Sts.\", \"Expectancy\": 67.618, \"GDP\": 3018.39689930827, \"education\": 23.62883}, {\"Cname\": \"Moldova\", \"Expectancy\": 71.717, \"GDP\": 2724.49309280928, \"education\": 5.67505512206805}, {\"Cname\": \"Mongolia\", \"Expectancy\": 69.509, \"GDP\": 3671.94841892492, \"education\": 4.31171868709531}, {\"Cname\": \"Morocco\", \"Expectancy\": 76.218, \"GDP\": 3036.17106160684, \"education\": 5.2}, {\"Cname\": \"Mozambique\", \"Expectancy\": 59.309, \"GDP\": 441.61783689092, \"education\": 5.38}, {\"Cname\": \"Myanmar\", \"Expectancy\": 66.558, \"GDP\": 1249.82875661238, \"education\": 1.76749295131903}, {\"Cname\": \"Namibia\", \"Expectancy\": 63.021, \"GDP\": 5646.45600733184, \"education\": 2.87896746647394}, {\"Cname\": \"Nepal\", \"Expectancy\": 70.169, \"GDP\": 900.57390358461, \"education\": 3.24498073832921}, {\"Cname\": \"Netherlands\", \"Expectancy\": 81.5609756097561, \"GDP\": 48554.9922761756, \"education\": 4.77831919814953}, {\"Cname\": \"New Zealand\", \"Expectancy\": 81.6585365853659, \"GDP\": 42260.1251767853, \"education\": 7.37}, {\"Cname\": \"Nicaragua\", \"Expectancy\": 74.068, \"GDP\": 2168.19123997963, \"education\": 4.1}, {\"Cname\": \"Niger\", \"Expectancy\": 61.599, \"GDP\": 375.869489673522, \"education\": 5.39089512964386}, {\"Cname\": \"Nigeria\", \"Expectancy\": 53.95, \"GDP\": 1968.55958830544, \"education\": 0.85}, {\"Cname\": \"North Macedonia\", \"Expectancy\": 75.589, \"GDP\": 5417.64201944282, \"education\": 3.26865220429847}, {\"Cname\": \"Norway\", \"Expectancy\": 82.509756097561, \"GDP\": 75704.2486981247, \"education\": 6.3616915434711}, {\"Cname\": \"Oman\", \"Expectancy\": 77.393, \"GDP\": 15170.3517435517, \"education\": 6.49726909438033}, {\"Cname\": \"Pakistan\", \"Expectancy\": 66.947, \"GDP\": 1466.84309577722, \"education\": 2.02734916362365}, {\"Cname\": \"Panama\", \"Expectancy\": 78.149, \"GDP\": 15166.124432066, \"education\": 2.8}, {\"Cname\": \"Papua New Guinea\", \"Expectancy\": 64.01, \"GDP\": 2640.153572462, \"education\": 6.9}, {\"Cname\": \"Paraguay\", \"Expectancy\": 73.992, \"GDP\": 5680.58076826353, \"education\": 4.42460361170874}, {\"Cname\": \"Peru\", \"Expectancy\": 76.286, \"GDP\": 6700.81138040492, \"education\": 3.34132723170737}, {\"Cname\": \"Philippines\", \"Expectancy\": 70.952, \"GDP\": 2981.93415144162, \"education\": 1.84}, {\"Cname\": \"Poland\", \"Expectancy\": 77.8512195121951, \"GDP\": 13861.0515579074, \"education\": 4.61441349781309}, {\"Cname\": \"Portugal\", \"Expectancy\": 81.1243902439025, \"GDP\": 21291.4309907117, \"education\": 4.77075729265274}, {\"Cname\": \"Puerto Rico\", \"Expectancy\": 79.6345365853659, \"GDP\": 31353.4341794183, \"education\": 8.58741824261882}, {\"Cname\": \"Qatar\", \"Expectancy\": 79.981, \"GDP\": 61264.3964777979, \"education\": 2.214611669941}, {\"Cname\": \"Romania\", \"Expectancy\": 75.309756097561, \"GDP\": 10792.9562796666, \"education\": 2.81}, {\"Cname\": \"Russian Federation\", \"Expectancy\": 72.1190243902439, \"GDP\": 10750.5871197198, \"education\": 3.62460988468421}, {\"Cname\": \"Rwanda\", \"Expectancy\": 68.341, \"GDP\": 762.499163641385, \"education\": 3.15663781247893}, {\"Cname\": \"Samoa\", \"Expectancy\": 73.046, \"GDP\": 4307.80546397731, \"education\": 4.24}, {\"Cname\": \"Sao Tome and Principe\", \"Expectancy\": 69.933, \"GDP\": 1811.00963265499, \"education\": 3.48}, {\"Cname\": \"Saudi Arabia\", \"Expectancy\": 74.874, \"GDP\": 20803.7425657324, \"education\": 7.1861867}, {\"Cname\": \"Senegal\", \"Expectancy\": 67.38, \"GDP\": 1367.21894802796, \"education\": 6.46494720796212}, {\"Cname\": \"Serbia\", \"Expectancy\": 76.0878048780488, \"GDP\": 6284.192671588, \"education\": 3.97148682259795}, {\"Cname\": \"Seychelles\", \"Expectancy\": 74.3, \"GDP\": 15683.6564988559, \"education\": 4.53410999094786}, {\"Cname\": \"Sierra Leone\", \"Expectancy\": 53.895, \"GDP\": 499.38070781976, \"education\": 2.71351434268742}, {\"Cname\": \"Singapore\", \"Expectancy\": 82.8951219512195, \"GDP\": 60297.7937806208, \"education\": 2.76}, {\"Cname\": \"Slovak Republic\", \"Expectancy\": 77.1658536585366, \"GDP\": 17579.2593991421, \"education\": 4.05253329240585}, {\"Cname\": \"Slovenia\", \"Expectancy\": 81.1756097560976, \"GDP\": 23449.5745165237, \"education\": 4.652208589303}, {\"Cname\": \"Solomon Islands\", \"Expectancy\": 72.645, \"GDP\": 2077.12603765032, \"education\": 9.94}, {\"Cname\": \"Somalia\", \"Expectancy\": 56.709, \"GDP\": 309.066058977427, \"education\": 0.991144636141377}, {\"Cname\": \"South Africa\", \"Expectancy\": 63.538, \"GDP\": 6127.46229651543, \"education\": 6.0110723914149}, {\"Cname\": \"Spain\", \"Expectancy\": 83.3292682926829, \"GDP\": 28208.2610532181, \"education\": 4.048234018203}, {\"Cname\": \"Sri Lanka\", \"Expectancy\": 76.648, \"GDP\": 4104.63098320435, \"education\": 2.30772096942907}, {\"Cname\": \"St. Lucia\", \"Expectancy\": 75.907, \"GDP\": 10003.2598650984, \"education\": 4.18006112860583}, {\"Cname\": \"St. Vincent and the Grenadines\", \"Expectancy\": 72.3, \"GDP\": 7149.63086622199, \"education\": 5.17857246122534}, {\"Cname\": \"Sudan\", \"Expectancy\": 64.881, \"GDP\": 3015.02442975186, \"education\": 2.18}, {\"Cname\": \"Suriname\", \"Expectancy\": 71.463, \"GDP\": 5379.11941495353, \"education\": 3.4447781}, {\"Cname\": \"Sweden\", \"Expectancy\": 82.3073170731707, \"GDP\": 53253.4766411192, \"education\": 7.06787894300597}, {\"Cname\": \"Switzerland\", \"Expectancy\": 83.6024390243903, \"GDP\": 80333.4449447719, \"education\": 4.4764683679}, {\"Cname\": \"Tajikistan\", \"Expectancy\": 70.647, \"GDP\": 806.041573098044, \"education\": 3.76800831431943}, {\"Cname\": \"Tanzania\", \"Expectancy\": 64.479, \"GDP\": 1004.84112066441, \"education\": 3.73}, {\"Cname\": \"Thailand\", \"Expectancy\": 76.683, \"GDP\": 6578.18886493522, \"education\": 4.18853837255481}, {\"Cname\": \"Timor-Leste\", \"Expectancy\": 69.007, \"GDP\": 2000.60119103569, \"education\": 3.16804492119075}, {\"Cname\": \"Togo\", \"Expectancy\": 60.489, \"GDP\": 619.066370987019, \"education\": 4.8928383555916}, {\"Cname\": \"Tonga\", \"Expectancy\": 70.701, \"GDP\": 4217.47650679527, \"education\": 2.93}, {\"Cname\": \"Trinidad and Tobago\", \"Expectancy\": 73.245, \"GDP\": 16076.0820382225, \"education\": 2.87}, {\"Cname\": \"Tunisia\", \"Expectancy\": 76.31, \"GDP\": 3494.31886448228, \"education\": 5.9}, {\"Cname\": \"Turkey\", \"Expectancy\": 77.161, \"GDP\": 10499.7455731688, \"education\": 3.79819811778181}, {\"Cname\": \"Turkmenistan\", \"Expectancy\": 67.956, \"GDP\": 6587.09031628698, \"education\": 2.32}, {\"Cname\": \"Uganda\", \"Expectancy\": 62.516, \"GDP\": 631.522719792278, \"education\": 2.01285452729716}, {\"Cname\": \"Ukraine\", \"Expectancy\": 71.7809756097561, \"GDP\": 2640.67567655839, \"education\": 4.6391660925235}, {\"Cname\": \"United Kingdom\", \"Expectancy\": 81.1560975609756, \"GDP\": 39932.0602923845, \"education\": 5.55070464321649}, {\"Cname\": \"United States\", \"Expectancy\": 78.5390243902439, \"GDP\": 59927.9298339535, \"education\": 4.40382903418674}, {\"Cname\": \"Uruguay\", \"Expectancy\": 77.632, \"GDP\": 16437.2448692778, \"education\": 4.29987527352317}, {\"Cname\": \"Uzbekistan\", \"Expectancy\": 71.388, \"GDP\": 1826.56703999223, \"education\": 9.3747642}, {\"Cname\": \"Vanuatu\", \"Expectancy\": 70.172, \"GDP\": 2976.1071160324, \"education\": 4.68811283400111}, {\"Cname\": \"Vietnam\", \"Expectancy\": 75.241, \"GDP\": 2365.62166567374, \"education\": 4.60305015866341}, {\"Cname\": \"Virgin Islands (U.S.)\", \"Expectancy\": 79.419512195122, \"GDP\": 35938.0243875154, \"education\": 9.3561772}, {\"Cname\": \"Yemen, Rep.\", \"Expectancy\": 66.086, \"GDP\": 963.494720967854, \"education\": 3.6}, {\"Cname\": \"Zambia\", \"Expectancy\": 63.043, \"GDP\": 1534.86537052245, \"education\": 1.06}, {\"Cname\": \"Zimbabwe\", \"Expectancy\": 60.812, \"GDP\": 1602.40350699048, \"education\": 1.91}, {\"Cname\": \"Arab World\", \"Expectancy\": 71.6225263276687, \"GDP\": 6285.21522795013, \"education\": 4.95093785977335}, {\"Cname\": \"Caribbean small states\", \"Expectancy\": 73.5174924941115, \"GDP\": 9442.91279388821, \"education\": 3.87287635564081}, {\"Cname\": \"Central Europe and the Baltics\", \"Expectancy\": 77.0339659062949, \"GDP\": 14167.6491028513, \"education\": 4.44876783247679}, {\"Cname\": \"East Asia & Pacific\", \"Expectancy\": 75.8657476184635, \"GDP\": 10332.8322621933, \"education\": 2.66408252585664}, {\"Cname\": \"East Asia & Pacific (excluding high income)\", \"Expectancy\": 74.9949516020133, \"GDP\": 7081.77637859757, \"education\": 2.07546880725027}, {\"Cname\": \"East Asia & Pacific (IDA & IBRD countries)\", \"Expectancy\": 75.0333588983101, \"GDP\": 7156.32031869716, \"education\": 2.07546880725027}, {\"Cname\": \"Euro area\", \"Expectancy\": 81.9507304209619, \"GDP\": 37047.7756101779, \"education\": 4.55870523269761}, {\"Cname\": \"Europe & Central Asia\", \"Expectancy\": 77.7446903650865, \"GDP\": 23517.2053537836, \"education\": 4.7049807253847}, {\"Cname\": \"Europe & Central Asia (excluding high income)\", \"Expectancy\": 73.3991723323695, \"GDP\": 7979.76034048573, \"education\": 3.74205684199947}, {\"Cname\": \"Europe & Central Asia (IDA & IBRD countries)\", \"Expectancy\": 73.808354320107, \"GDP\": 8516.29187660812, \"education\": 3.87009721495964}, {\"Cname\": \"European Union\", \"Expectancy\": 80.9911558127395, \"GDP\": 33873.2850035441, \"education\": 4.82250729528267}, {\"Cname\": \"Fragile and conflict affected situations\", \"Expectancy\": 63.1510954554411, \"GDP\": 1646.06339262312, \"education\": 3.27036576589361}, {\"Cname\": \"Heavily indebted poor countries (HIPC)\", \"Expectancy\": 62.7486826008412, \"GDP\": 991.985291751723, \"education\": 3.50446800923184}, {\"Cname\": \"High income\", \"Expectancy\": 80.6937295003259, \"GDP\": 42350.0563146253, \"education\": 4.49807734279624}, {\"Cname\": \"IDA blend\", \"Expectancy\": 61.9968846385796, \"GDP\": 1733.46049894139, \"education\": 2.5130434777642}, {\"Cname\": \"IDA only\", \"Expectancy\": 64.973294676486, \"GDP\": 1148.30957763009, \"education\": 2.83366600353485}, {\"Cname\": \"IDA total\", \"Expectancy\": 63.9647120093937, \"GDP\": 1345.83346211323, \"education\": 2.68522682987121}, {\"Cname\": \"Late-demographic dividend\", \"Expectancy\": 75.9954014946273, \"GDP\": 8944.75213695805, \"education\": 2.86565459263143}, {\"Cname\": \"Latin America & Caribbean\", \"Expectancy\": 75.2802157502625, \"GDP\": 9397.62070912358, \"education\": 5.25153243800361}, {\"Cname\": \"Latin America & Caribbean (excluding high income)\", \"Expectancy\": 75.0834544384024, \"GDP\": 8959.80202540338, \"education\": 5.29616865477667}, {\"Cname\": \"Latin America & the Caribbean (IDA & IBRD countries)\", \"Expectancy\": 75.192465413112, \"GDP\": 9253.66648399388, \"education\": 5.20921597116776}, {\"Cname\": \"Least developed countries: UN classification\", \"Expectancy\": 64.7077302181912, \"GDP\": 1093.81132310222, \"education\": 2.55981140048631}, {\"Cname\": \"Low income\", \"Expectancy\": 63.3926101593465, \"GDP\": 767.892904146689, \"education\": 3.13642687298284}, {\"Cname\": \"Lower middle income\", \"Expectancy\": 68.3230243560808, \"GDP\": 2187.49882855239, \"education\": 3.1128404303511}, {\"Cname\": \"Middle East & North Africa\", \"Expectancy\": 73.9010335056528, \"GDP\": 7422.02790339989, \"education\": 4.90902407125557}, {\"Cname\": \"Middle East & North Africa (excluding high income)\", \"Expectancy\": 73.3942702537245, \"GDP\": 3817.68617419562, \"education\": 4.08538195466906}, {\"Cname\": \"Middle East & North Africa (IDA & IBRD countries)\", \"Expectancy\": 73.3901310655417, \"GDP\": 3823.83320020438, \"education\": 4.08538195466906}, {\"Cname\": \"North America\", \"Expectancy\": 78.9142768005615, \"GDP\": 58434.030875745, \"education\": 4.44376395113839}, {\"Cname\": \"OECD members\", \"Expectancy\": 80.1384657252691, \"GDP\": 38411.3725417333, \"education\": 4.4951292386352}, {\"Cname\": \"Other small states\", \"Expectancy\": 68.2054875092564, \"GDP\": 13422.2439405735, \"education\": 3.78267651367092}, {\"Cname\": \"Pacific island small states\", \"Expectancy\": 69.7742837809553, \"GDP\": 4080.52619674354, \"education\": 5.77329141873805}, {\"Cname\": \"Post-demographic dividend\", \"Expectancy\": 80.6136376062954, \"GDP\": 42725.2276992152, \"education\": 4.45555759921402}, {\"Cname\": \"Pre-demographic dividend\", \"Expectancy\": 60.427466911492, \"GDP\": 1458.12634350036, \"education\": 2.7880897043725}, {\"Cname\": \"Small states\", \"Expectancy\": 69.261389799666, \"GDP\": 12125.1629561174, \"education\": 3.83530944453442}, {\"Cname\": \"South Asia\", \"Expectancy\": 69.1713119009688, \"GDP\": 1867.27224804395, \"education\": 2.81884143695638}, {\"Cname\": \"South Asia (IDA & IBRD)\", \"Expectancy\": 69.1713119009688, \"GDP\": 1867.27224804395, \"education\": 2.81884143695638}]}, \"$schema\": \"https://vega.github.io/schema/vega-lite/v1.2.1.json\"};\n",
       "var selector = \"#22cbe519-a60c-41b0-8f61-cc59c6afbfb4\";\n",
       "var type = \"vega-lite\";\n",
       "\n",
       "var output_area = this;\n",
       "require(['nbextensions/jupyter-vega/index'], function(vega) {\n",
       "  vega.render(selector, spec, type, output_area);\n",
       "}, function (err) {\n",
       "  if (err.requireType !== 'scripterror') {\n",
       "    throw(err);\n",
       "  }\n",
       "});\n"
      ]
     },
     "metadata": {
      "jupyter-vega": "#22cbe519-a60c-41b0-8f61-cc59c6afbfb4"
     },
     "output_type": "display_data"
    },
    {
     "data": {
      "image/png": "[encoded data removed]"
     },
     "metadata": {
      "jupyter-vega": "#22cbe519-a60c-41b0-8f61-cc59c6afbfb4"
     },
     "output_type": "display_data"
    }
   ],
   "source": [
    "alt.Chart(df).mark_point().encode(\n",
    "    x='GDP',\n",
    "    y='Expectancy',\n",
    "    size='education',\n",
    ")"
   ]
  },
  {
   "cell_type": "code",
   "execution_count": null,
   "metadata": {
    "collapsed": true
   },
   "outputs": [],
   "source": []
  }
 ],
 "metadata": {
  "kernelspec": {
   "display_name": "Python 3",
   "language": "python",
   "name": "python3"
  },
  "language_info": {
   "codemirror_mode": {
    "name": "ipython",
    "version": 3
   },
   "file_extension": ".py",
   "mimetype": "text/x-python",
   "name": "python",
   "nbconvert_exporter": "python",
   "pygments_lexer": "ipython3",
   "version": "3.6.3"
  }
 },
 "nbformat": 4,
 "nbformat_minor": 2
}
